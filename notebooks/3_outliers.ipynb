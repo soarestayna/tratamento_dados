{
 "cells": [
  {
   "metadata": {},
   "cell_type": "markdown",
   "source": [
    "# Remoção de Outliers - Detecção e Tratamento\n",
    "\n",
    "---"
   ],
   "id": "ea30e83568a10a26"
  },
  {
   "metadata": {},
   "cell_type": "markdown",
   "source": [
    "#### Neste notebook realizamos a remoção de outliers do dataset `clientes_limpeza.csv`.\n",
    "#### As etapas incluem identificação, filtragem e tratamento de dados extremos para garantir qualidade nas análises futuras."
   ],
   "id": "a2fbd42ebe5b8707"
  },
  {
   "metadata": {},
   "cell_type": "markdown",
   "source": [
    "## 1. Leitura dos Dados\n",
    "\n",
    "Importamos o dataset tratado anteriormente(`clientes_limpeza.csv`) e ajustamos a exibição.\n",
    "\n",
    "- `scipy.stats` - A subbiblioteca `stats` do pacote `scipy` oferece funções estatísticas para análise de dados, ela é muito útil para detectar outliers, realizar testes estatísticos e calcular distribuições de probabilidade."
   ],
   "id": "7d4b30913f83a6cd"
  },
  {
   "metadata": {},
   "cell_type": "code",
   "outputs": [],
   "execution_count": null,
   "source": [
    "import pandas as pd\n",
    "from scipy import stats\n",
    "\n",
    "pd.set_option('display.width', None)\n",
    "\n",
    "df = pd.read_csv('../data/clientes_limpeza.csv')"
   ],
   "id": "59deecab550f4ef2"
  },
  {
   "metadata": {},
   "cell_type": "markdown",
   "source": [
    "## 2. Filtro Básico\n",
    "\n",
    "Identificamos registros com idade superior a 100 anos como possível outlier."
   ],
   "id": "cb934ae6583bc510"
  },
  {
   "metadata": {},
   "cell_type": "code",
   "outputs": [],
   "execution_count": null,
   "source": [
    "df_filtro_basico = df[df['idade'] > 100]\n",
    "print('Filtro básico \\n', df_filtro_basico[['nome', 'idade']])"
   ],
   "id": "1055914e57f740b8"
  },
  {
   "metadata": {},
   "cell_type": "markdown",
   "source": [
    "## 3. Detecção de Outliers com Z-Score\n",
    "\n",
    "- Z - Score mede o desvio padrão em relação à média.\n",
    "- Valores com Z ≥ 3 são considerados outliers."
   ],
   "id": "7720e44dbcdaf87"
  },
  {
   "metadata": {},
   "cell_type": "code",
   "outputs": [],
   "execution_count": null,
   "source": "df_zscore = df[(stats.zscore(df['idade']) < 3)]",
   "id": "698ab4e4cffdc3f6"
  },
  {
   "metadata": {},
   "cell_type": "markdown",
   "source": [
    "## 4. Detecção de Outliers com IQR\n",
    "\n",
    "- IQR = Intervalo Interquartil(Q3 - Q1)\n",
    "- Outliers que estão fora dos limites:\n",
    "    - `limite_baixo = Q1 - 1.5 * IQR`\n",
    "    - `limite_alto = Q3 + 1.5 * IQR`"
   ],
   "id": "f43fc4374e6f4055"
  },
  {
   "metadata": {},
   "cell_type": "code",
   "outputs": [],
   "execution_count": null,
   "source": [
    "Q1 = df['idade'].quantile(0.25)\n",
    "Q3 = df['idade'].quantile(0.75)\n",
    "IQR = Q3 - Q1\n",
    "\n",
    "limite_baixo = Q1 - 1.5 * IQR\n",
    "limite_alto = Q3 + 1.5 * IQR\n",
    "\n",
    "print('Limites IQR: ', limite_baixo, limite_alto)\n",
    "\n",
    "outliers_iqr = df[(df['idade'] < limite_baixo) | (df['idade'] > limite_alto)]\n",
    "print('Outliers pelo IQR: \\n', outliers_iqr)"
   ],
   "id": "9a7c6d55748e7978"
  },
  {
   "metadata": {},
   "cell_type": "markdown",
   "source": [
    "## 5. Filtragem de Outliers\n",
    "\n",
    "Removemos registros fora dos limites definidos."
   ],
   "id": "b68de2d439a7f9a9"
  },
  {
   "metadata": {},
   "cell_type": "code",
   "outputs": [],
   "execution_count": null,
   "source": "df_iqr = df[(df['idade'] >= limite_baixo) & (df['idade'] <= limite_alto)]",
   "id": "23ea1a250f933517"
  },
  {
   "metadata": {},
   "cell_type": "markdown",
   "source": [
    "## 6. Definição de Faixa Válida\n",
    "\n",
    "Aplicamos uma faixa de idade entre 1 e 100 anos para garantir consistência."
   ],
   "id": "3c36a60d3b1eb700"
  },
  {
   "metadata": {},
   "cell_type": "code",
   "outputs": [],
   "execution_count": null,
   "source": [
    "limite_baixo = 1\n",
    "limite_alto = 100\n",
    "df = df[(df['idade'] >= limite_baixo) & (df['idade'] <= limite_alto)]"
   ],
   "id": "7a7685c8270af1f7"
  },
  {
   "metadata": {},
   "cell_type": "markdown",
   "source": [
    "## 7. Validação de Endereços\n",
    "\n",
    "Consideramos inválido qualquer endereço com menos de 3 linhas (ex: rua, bairro, cidade)."
   ],
   "id": "ff7a4411ae22da4d"
  },
  {
   "metadata": {},
   "cell_type": "code",
   "outputs": [],
   "execution_count": null,
   "source": [
    "df['endereco'] = df['endereco'].apply(lambda x: 'Endereço inválido' if len(x.split('\\n')) < 3 else x)\n",
    "print('Qtd registros com Endereço inválido: ', (df['endereco'] == 'Endereço inválido').sum())"
   ],
   "id": "62238ad81ed115c7"
  },
  {
   "metadata": {},
   "cell_type": "markdown",
   "source": [
    "## 8. Validação de Nomes\n",
    "\n",
    "Nomes com mais de 50 caracteres são marcados como inválidos."
   ],
   "id": "8a7bf590b4aa76c0"
  },
  {
   "metadata": {},
   "cell_type": "code",
   "outputs": [],
   "execution_count": null,
   "source": [
    "df['nome'] = df['nome'].apply(lambda x: 'Nome inválido' if isinstance(x, str) and len(x) > 50 else x)\n",
    "print('Qtd registros com nomes grandes: ', (df['nome'] == 'Nome inválido').sum())"
   ],
   "id": "40c7a7f2d1120cff"
  },
  {
   "metadata": {},
   "cell_type": "markdown",
   "source": [
    "## 9. Visualização Final\n",
    "\n",
    "Exibimos os dados após tratamento de outliers e validações."
   ],
   "id": "3af747771df5371"
  },
  {
   "metadata": {},
   "cell_type": "code",
   "outputs": [],
   "execution_count": null,
   "source": "print('Dados com Outliers tratados: \\n', df)",
   "id": "92054e57b4cd235b"
  },
  {
   "metadata": {},
   "cell_type": "markdown",
   "source": [
    "## 10. Salvamento do Dataset Final\n",
    "\n",
    "Exportamos o DataFrame limpo para `clientes_remocao_outliers.csv`.\n",
    "- `index=False` - evita que o índice seja salvo no arquivo final."
   ],
   "id": "bfd5690deb2880b9"
  },
  {
   "cell_type": "code",
   "execution_count": null,
   "id": "initial_id",
   "metadata": {
    "collapsed": true
   },
   "outputs": [],
   "source": "df.to_csv('clientes_remocao_outliers.csv', index=False)"
  },
  {
   "metadata": {},
   "cell_type": "markdown",
   "source": [
    "#### Outras funções relevantes da `scipy.stats` (não utilizadas aqui, mas úteis para o futuro):\n",
    "\n",
    "- `stats.ttest_ind()` – teste t para comparar médias entre dois grupos\n",
    "- `stats.normaltest()` – verifica se os dados seguem distribuição normal\n",
    "- `stats.pearsonr()` – calcula correlação de Pearson entre duas variáveis\n",
    "- `stats.iqr()` – calcula o intervalo interquartil (alternativa ao cálculo manual do IQR)"
   ],
   "id": "d8006084d78fceaa"
  },
  {
   "metadata": {},
   "cell_type": "markdown",
   "source": [
    "#### Observações:\n",
    "\n",
    "- A função `zscore()` ignora valores nulos automaticamente, mas é recomendável aplicar `.dropna()` antes para garantir precisão.\n",
    "- O resultado é uma série de valores padronizados que podem ser usados para filtrar ou visualizar outliers.\n",
    "- `scipy.stats` é compatível com arrays NumPy e colunas de DataFrames pandas."
   ],
   "id": "9554acabdde101e2"
  }
 ],
 "metadata": {
  "kernelspec": {
   "display_name": "Python 3",
   "language": "python",
   "name": "python3"
  },
  "language_info": {
   "codemirror_mode": {
    "name": "ipython",
    "version": 2
   },
   "file_extension": ".py",
   "mimetype": "text/x-python",
   "name": "python",
   "nbconvert_exporter": "python",
   "pygments_lexer": "ipython2",
   "version": "2.7.6"
  }
 },
 "nbformat": 4,
 "nbformat_minor": 5
}
