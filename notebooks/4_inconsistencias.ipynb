{
 "cells": [
  {
   "metadata": {},
   "cell_type": "markdown",
   "source": "# Tratamento de Dados com pandas e numpy",
   "id": "3b079557aa0191a3"
  },
  {
   "metadata": {},
   "cell_type": "markdown",
   "source": "### Este notebook realiza o pré - processamento de um conjunto de dados de clientes, com foco em limpeza, anonimização e padronização.",
   "id": "7f4d27d5223d3e6e"
  },
  {
   "metadata": {},
   "cell_type": "markdown",
   "source": [
    "## 1. Inicialização\n",
    "\n",
    "Bibliotecas utilizadas:\n",
    "- `pandas` - para manipulação de dados tabulares\n",
    "- `numpy` - para operações numéricas e tratamento de valores nulos\n",
    "\n",
    "- `numpy` - serve para manipulação de arrays e operações matemáticas de alto desempenho e serve como base para diversas outras bibliotecas como o pandas, SciPy, scikit-learn. Os principais recursos do NumPy são:\n",
    "> - (`ndarray`) - estrutura central do NumPy, mais eficiente que listas nativas do Python para operações numéricas.\n",
    "> - Operações vetorizadas - que permite aplicar funções matemáticas diretamente sobre arrays, sem necessidade de loops explícitos.\n",
    "> - Funções matemáticas e estatísticas como: `np.mean()`, `np.std()`, `np.sum()`, `np.median()`, `np.percentile()`\n",
    "> - Tratamento de valores nulos e substituições: `np.nan`, `np.where()`, `np.isnan()`\n",
    "> - Geração de números aleatórios: `np.random.rand()`, `np.random.randint()`, `np.random.normal()`\n",
    "> - Manipulação de arrays: `reshape()`, `flatten()`, `concatenate()`, `split()`"
   ],
   "id": "ce21126b08c04ad6"
  },
  {
   "metadata": {},
   "cell_type": "code",
   "outputs": [],
   "execution_count": null,
   "source": [
    "import pandas as pd\n",
    "import numpy as np"
   ],
   "id": "c7651dc118adfad"
  },
  {
   "metadata": {},
   "cell_type": "markdown",
   "source": [
    "#### Configurações iniciais:\n",
    "\n",
    "Essas opções garantem que o conteúdo das colunas seja exibido por completo no terminal ou notebook."
   ],
   "id": "90de96904ae38a93"
  },
  {
   "metadata": {},
   "cell_type": "code",
   "outputs": [],
   "execution_count": null,
   "source": [
    "pd.set_option('display.width', None)\n",
    "pd.set_option('display.max_colwidth', None\n",
    "\n",
    "df = pd.read_csv('../data/clientes_remocao_outliers.csv')\n",
    "\n",
    "print(df.head())"
   ],
   "id": "b8cc762172790eec"
  },
  {
   "metadata": {},
   "cell_type": "markdown",
   "source": [
    "## 2. Mascarando os dados pessoais\n",
    "\n",
    "- CPF mascarado\n",
    "- Protege a privacidade dos clientes mantendo apenas parte do CPF visível."
   ],
   "id": "7b47368788108812"
  },
  {
   "metadata": {},
   "cell_type": "code",
   "outputs": [],
   "execution_count": null,
   "source": "df['cpf_mascara'] = df['cpf'].apply(lambda cpf: f'{cpf[:3]}.***.***-{cpf[-2:]}')",
   "id": "8e483f0809b43ced"
  },
  {
   "metadata": {},
   "cell_type": "markdown",
   "source": [
    "## 3. Correção de datas e cálculo de idade\n",
    "\n",
    "- Conversão de datas com `pd.to_datetime()`\n",
    "- Substituição de datas futuras por uma  data padrão (1900 - 01 - 01)\n",
    "- Cálculo da idade ajustada com verificação de mês e dia\n",
    "- Remoção de idades acima de 100 anos como possível erro"
   ],
   "id": "61940842d59c7fbf"
  },
  {
   "metadata": {},
   "cell_type": "code",
   "outputs": [],
   "execution_count": null,
   "source": [
    "df['data'] = pd.to_datetime(df['data'], format='%d/%m/%Y', errors='coerce')\n",
    "\n",
    "data_atual = pd.to_datetime('today')\n",
    "df['data_atualizada'] = df['data'].where(df['data'] <= data_atual, pd.to_datetime('1900-01-01'))\n",
    "df['idade_ajustada'] = data_atual.year - df['data_atualizada'].dt.year\n",
    "df['idade_ajustada'] -= ((data_atual.month <= df['data_atualizada'].dt.month) & (data_atual.day < df['data_atualizada'].dt.day)).astype(int)\n",
    "df.loc[df['idade_ajustada'] > 100, 'idade_ajustada'] = np.nan"
   ],
   "id": "19faaf32c0f4aeaf"
  },
  {
   "metadata": {},
   "cell_type": "markdown",
   "source": [
    "## 4. Padronização de endereço\n",
    "\n",
    "- Extração de endereço curto, bairro e estado a partir de campos multilineares\n",
    "- Validação de comprimento do endereço\n",
    "- Normalização da sigla do estado com base em uma tupla de estados válidos."
   ],
   "id": "c167cbf6a791422f"
  },
  {
   "metadata": {},
   "cell_type": "code",
   "outputs": [],
   "execution_count": null,
   "source": [
    "df['endereco_curto'] = df['endereco'].apply(lambda x: x.split('\\n')[0].strip())\n",
    "df['bairro'] = df['endereco'].apply(lambda x: x.split('\\n')[1].strip() if len(x.split('\\n')) > 1 else 'Desconhecido')\n",
    "df['estado_sigla'] = df['endereco'].apply(lambda x: x.split(' / ')[-1].strip() if len(x.split('\\n')) > 1 else 'Desconhecido')\n",
    "\n",
    "df['endereco_curto'] = df['endereco_curto'].apply(lambda x: 'Endereço inválido' if len(x) > 50 or len(x) < 5 else x)\n"
   ],
   "id": "51a8c3dfd016b3d2"
  },
  {
   "metadata": {},
   "cell_type": "markdown",
   "source": [
    "## 5. Correção de dados inválidos\n",
    "\n",
    "- CPF com tamanho diferente de 14 caracteres é marcado como 'CPF inválido'\n",
    "- Estados não reconhecidos são rotulados como 'Desconhecido'"
   ],
   "id": "b7ae9b0467780784"
  },
  {
   "metadata": {},
   "cell_type": "code",
   "outputs": [],
   "execution_count": null,
   "source": [
    "df['cpf'] = df['cpf'].apply(lambda x: x if len(x) == 14 else 'CPF inválido')\n",
    "\n",
    "estados_br = ('AC', 'AL', 'AP', 'AM', 'BA', 'CE', 'DF', 'ES', 'GO', 'MA', 'MT', 'MS', 'MG', 'PA',\n",
    "              'PB', 'PR', 'PE', 'PI', 'RJ', 'RN', 'RS', 'RO', 'RR', 'SC', 'SP', 'SE', 'TO')\n",
    "df['estado_sigla'] = df['estado_sigla'].str.upper().apply(lambda x: x if x in estados_br else 'Desconhecido')\n",
    "\n",
    "print('Dados tratados:\\n', df.head())"
   ],
   "id": "f1ab71d71f3e14cc"
  },
  {
   "metadata": {},
   "cell_type": "markdown",
   "source": "## 6. Exportação do DataFrame tratado",
   "id": "ab1b53d71ab6b176"
  },
  {
   "cell_type": "code",
   "execution_count": null,
   "id": "initial_id",
   "metadata": {
    "collapsed": true
   },
   "outputs": [],
   "source": [
    "df['cpf'] = df['cpf_mascara']\n",
    "df['idade'] = df['idade_ajustada']\n",
    "df['endereco'] = df['endereco_curto']\n",
    "df['estado'] = df['estado_sigla']\n",
    "df_salvar = df[['nome', 'cpf', 'idade', 'data', 'endereco', 'bairro', 'estado']]\n",
    "\n",
    "df_salvar.to_csv('clientes_tratados.csv', index=False)\n",
    "\n",
    "print('Novo DataFrame: \\n', pd.read_csv('../data/clientes_tratados.csv'))"
   ]
  }
 ],
 "metadata": {
  "kernelspec": {
   "display_name": "Python 3",
   "language": "python",
   "name": "python3"
  },
  "language_info": {
   "codemirror_mode": {
    "name": "ipython",
    "version": 2
   },
   "file_extension": ".py",
   "mimetype": "text/x-python",
   "name": "python",
   "nbconvert_exporter": "python",
   "pygments_lexer": "ipython2",
   "version": "2.7.6"
  }
 },
 "nbformat": 4,
 "nbformat_minor": 5
}
