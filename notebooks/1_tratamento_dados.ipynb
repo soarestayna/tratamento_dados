{
 "cells": [
  {
   "metadata": {},
   "cell_type": "markdown",
   "source": [
    "# Tratamento Inicial - Análise Exploratória\n",
    "\n",
    "---\n",
    "\n",
    "### Este notebook faz parte do portfólio acadêmico do curso de Análise de Dados - EBAC."
   ],
   "id": "a621f904a3b16af0"
  },
  {
   "metadata": {},
   "cell_type": "markdown",
   "source": [
    "#### Neste notebook realizamos a leitura e inspeção inicial do dataset `clientes.csv`.\n",
    "#### As etapas incluem visualização dos dados, verificação de estrutura, tipos de variáveis e identificação de valores nulos."
   ],
   "id": "1d93f9b7ccef97c2"
  },
  {
   "metadata": {},
   "cell_type": "markdown",
   "source": [
    "## 1. Leitura dos Dados\n",
    "\n",
    "Importamos bibliotecas essenciais e carregamos o dataset."
   ],
   "id": "9215aad1eb850c53"
  },
  {
   "metadata": {},
   "cell_type": "code",
   "outputs": [],
   "execution_count": null,
   "source": [
    "import pandas as pd\n",
    "from pathlib import Path\n",
    "\n",
    "data_path = Path('dataset/clientes.csv')\n",
    "df = pd.read_csv(data_path)\n",
    "\n",
    "df.head()"
   ],
   "id": "c627370b2d76025b"
  },
  {
   "metadata": {},
   "cell_type": "markdown",
   "source": [
    "## 2. Visualização Inicial\n",
    "\n",
    "-  Exibição das primeiras e últimas linhas completas do DataFrame\n",
    "> - `head()` - mostra as 5 primeiras linhas da tabela.\n",
    "> - `tail()` - mostra as 5 últimas linhas.\n",
    "> - `to_string()` - garante que a visualização seja completa no terminal(sem cortes)."
   ],
   "id": "c9372604182e3575"
  },
  {
   "metadata": {},
   "cell_type": "code",
   "outputs": [],
   "execution_count": null,
   "source": [
    "print(df.head().to_string())\n",
    "print(df.tail().to_string())"
   ],
   "id": "98cb3ddbf98d459"
  },
  {
   "metadata": {},
   "cell_type": "markdown",
   "source": [
    "## 3. Estrutura do DataFrame\n",
    "\n",
    "- Verificação da quantidade de linhas e colunas\n",
    "> - `shape` – retorna uma tupla com(n_linhas, n_colunas)"
   ],
   "id": "a2bfb817d87037d8"
  },
  {
   "metadata": {},
   "cell_type": "code",
   "outputs": [],
   "execution_count": null,
   "source": "print('Qtd: ', df.shape)",
   "id": "6813cee28432ef69"
  },
  {
   "metadata": {},
   "cell_type": "markdown",
   "source": [
    "## 4. Tipagem das Variáveis\n",
    "\n",
    "- Identificação dos tipos de dados por coluna\n",
    "> - `dtypes` – mostra se cada coluna é `int`, `float`, `object`(texto), `datetime`, etc."
   ],
   "id": "143b46245094eb37"
  },
  {
   "metadata": {},
   "cell_type": "code",
   "outputs": [],
   "execution_count": null,
   "source": "print('Tipagem: \\n', df.dtypes)",
   "id": "7e84e411bf6f1a54"
  },
  {
   "metadata": {},
   "cell_type": "markdown",
   "source": [
    "## 5. Verificação de Valores Nulos\n",
    "\n",
    "- Identificação e contagem de dados ausentes\n",
    "> - `isnull()` – retorna um DataFrame booleano indicando células nulas\n",
    "> - `sum()` – soma os valores nulos por coluna"
   ],
   "id": "563cd945522119d4"
  },
  {
   "metadata": {},
   "cell_type": "code",
   "outputs": [],
   "execution_count": null,
   "source": "print('Valores nulos: \\n', df.isnull().sum())",
   "id": "efccd6e118374a7e"
  }
 ],
 "metadata": {
  "kernelspec": {
   "display_name": "Python 3",
   "language": "python",
   "name": "python3"
  },
  "language_info": {
   "codemirror_mode": {
    "name": "ipython",
    "version": 2
   },
   "file_extension": ".py",
   "mimetype": "text/x-python",
   "name": "python",
   "nbconvert_exporter": "python",
   "pygments_lexer": "ipython2",
   "version": "2.7.6"
  }
 },
 "nbformat": 4,
 "nbformat_minor": 5
}
