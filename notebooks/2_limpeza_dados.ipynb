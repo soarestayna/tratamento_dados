{
 "cells": [
  {
   "metadata": {},
   "cell_type": "markdown",
   "source": [
    "# Limpeza de Dados - Padronização e Correções\n",
    "\n",
    "---"
   ],
   "id": "b6b34b5720a0347a"
  },
  {
   "metadata": {},
   "cell_type": "markdown",
   "source": [
    "#### Neste notebook realizamos a limpeza e padronização do dataset `clientes.csv`.\n",
    "#### As etapas incluem remoção de dados irrelevantes, normalização de texto, tratamento de valores nulos e duplicados, além de ajustes de tipo e formato."
   ],
   "id": "85c3e3b43ad867db"
  },
  {
   "metadata": {},
   "cell_type": "markdown",
   "source": [
    "## 1. Leitura dos Dados\n",
    "\n",
    "Importamos os dados e ajustamos a exibição para facilitar a visualização.\n",
    "\n",
    "- `pd.set_option`('display.width', None) - Ajusta a exibição para não cortar dados na tela."
   ],
   "id": "1e05a66b5f739b69"
  },
  {
   "metadata": {},
   "cell_type": "code",
   "outputs": [],
   "execution_count": null,
   "source": [
    "import pandas as pd\n",
    "\n",
    "df = pd.read_csv('../data/clientes.csv')\n",
    "\n",
    "pd.set_option('display.width', None)\n",
    "print(df.head())"
   ],
   "id": "44abce3bcee48a37"
  },
  {
   "metadata": {},
   "cell_type": "markdown",
   "source": [
    "## 2. Remoção de Dados\n",
    "\n",
    "Parâmetro axis no Pandas é usado para especificar a direção axis=1 = colunas, axis=0 = linhas\n",
    "- `drop()` com `axis = 1 ` - remove colunas.\n",
    "- `drop()` com `axis = 0 ` - remove linhas.\n",
    "- `inplace = True ` - aplica a alteração diretamente no DataFrame."
   ],
   "id": "7f7411e10c0e341b"
  },
  {
   "metadata": {},
   "cell_type": "code",
   "outputs": [],
   "execution_count": null,
   "source": [
    "df.drop('pais', axis=1, inplace=True)\n",
    "df.drop(2, axis=0, inplace=True)"
   ],
   "id": "5a96089a91816193"
  },
  {
   "metadata": {},
   "cell_type": "markdown",
   "source": [
    "## 3. Normalização de Texto\n",
    "\n",
    "- `.str.title() ` - primeira letra maiúscula\n",
    "- `.str.lower()` - tudo minúsculo\n",
    "- `.str.strip().str.upper() ` - remove espaços e coloca tudo em maiúsculo"
   ],
   "id": "c09fbc7f0883d921"
  },
  {
   "metadata": {},
   "cell_type": "code",
   "outputs": [],
   "execution_count": null,
   "source": [
    "df['nome'] = df['nome'].str.title()\n",
    "df['endereco'] = df['endereco'].str.lower()\n",
    "df['estado'] = df['estado'].str.strip().str.upper()"
   ],
   "id": "9d9a24deefc94ee2"
  },
  {
   "metadata": {},
   "cell_type": "markdown",
   "source": [
    "## 4. Conversão de Tipos\n",
    "\n",
    "- `astype(int)` - garante que idade seja do tipo inteiro para análises numéricas"
   ],
   "id": "aa86207264774e7a"
  },
  {
   "metadata": {},
   "cell_type": "code",
   "outputs": [],
   "execution_count": null,
   "source": "df['idade'] = df['idade'].astype(int)",
   "id": "fefdfc1f24ba4627"
  },
  {
   "metadata": {},
   "cell_type": "markdown",
   "source": [
    "## 5. Tratamento de Valores Nulos\n",
    "\n",
    "- `fillna(0)` - substitui nulos por zero\n",
    "- `dropna()` - remove registros com qualquer valor nulo\n",
    "- `dropna(thresh=4)` - mantém registros com pelo menos 4 valores não nulos\n",
    "- `dropna(subset=['cpf'])` - remove registros com CPF nulo"
   ],
   "id": "a7cbca1d0e476264"
  },
  {
   "metadata": {},
   "cell_type": "code",
   "outputs": [],
   "execution_count": null,
   "source": [
    "df_fillna = df.fillna(0)\n",
    "df_dropna = df.dropna()\n",
    "df_dropna4 = df.dropna(thresh=4)\n",
    "df = df.dropna(subset=['cpf'])\n",
    "\n",
    "print('Valores nulos: \\n', df.isnull().sum())\n",
    "print('Qtd de registros nulos com fillna: ', df_fillna.isnull().sum().sum())\n",
    "print('Qtd de registros nulos com dropna: ', df_dropna.isnull().sum().sum())\n",
    "print('Qtd de registros nulos com dropna4: ', df_dropna4.isnull().sum().sum())\n",
    "print('Qtd de registros nulos com CPF: ', df.isnull().sum().sum())"
   ],
   "id": "c496c1b020ca9a86"
  },
  {
   "metadata": {},
   "cell_type": "markdown",
   "source": [
    "## 6. Substituição Contextual de Nulos\n",
    "\n",
    "- Substitui valores nulos com base no contexto da coluna.\n",
    "- Exemplo: `'estado'`recebe `'Desconhecido'`, `'endereco'` recebe `'Endereço não informado'`, e `'idade'` recebe a média.\n"
   ],
   "id": "c6b96d9acdfc119d"
  },
  {
   "metadata": {},
   "cell_type": "code",
   "outputs": [],
   "execution_count": null,
   "source": [
    "df.fillna({'estado': 'Desconhecido'}, inplace=True)\n",
    "df['endereco'] = df['endereco'].fillna('Endereço não informado')\n",
    "df['idade_corrigida'] = df['idade'].fillna(df['idade'].mean())"
   ],
   "id": "e5362aa014779d16"
  },
  {
   "metadata": {},
   "cell_type": "markdown",
   "source": [
    "## 7. Conversão de Datas\n",
    "\n",
    "- `pd.to_datetime()` - transforma texto em formato de data.\n",
    "- `errors = 'coerce'` -  converte datas inválidas em `NaT`."
   ],
   "id": "a941e5d1b515c2a4"
  },
  {
   "metadata": {},
   "cell_type": "code",
   "outputs": [],
   "execution_count": null,
   "source": "df['data_corrigida'] = pd.to_datetime(df['data'], format='%d/%m/%Y', errors='coerce')",
   "id": "5ee70ef052dddb99"
  },
  {
   "metadata": {},
   "cell_type": "markdown",
   "source": [
    "## 8. Remoção de Duplicatas\n",
    "\n",
    "- `drop_duplicates()` - remove registros repetidos.\n",
    "- `subset = 'cpf' - ` garante que não haja CPFs duplicados.\n",
    "- `df.shape[0]` e `len(df)` - ambas servem para mostrar a quantidade de linhas"
   ],
   "id": "7057c3d0ff198821"
  },
  {
   "metadata": {},
   "cell_type": "code",
   "outputs": [],
   "execution_count": null,
   "source": [
    "print('Qtd registros atual: ', df.shape[0])\n",
    "df.drop_duplicates()\n",
    "df.drop_duplicates(subset='cpf', inplace=True)\n",
    "print('Qtd registros removendo as duplicadas: ', len(df))"
   ],
   "id": "9b3585cf5f9d468d"
  },
  {
   "metadata": {},
   "cell_type": "markdown",
   "source": [
    "## 9. Atualização de Colunas Corrigidas\n",
    "\n",
    "Substitui as colunas (data e idade) originais pelas versões tratadas."
   ],
   "id": "de5f95cecca0bba5"
  },
  {
   "metadata": {},
   "cell_type": "code",
   "outputs": [],
   "execution_count": null,
   "source": [
    "df['data'] = df['data_corrigida']\n",
    "df['idade'] = df['idade_corrigida']"
   ],
   "id": "6eca30208c298d52"
  },
  {
   "metadata": {},
   "cell_type": "markdown",
   "source": [
    "## 10. Seleção de Colunas Relevantes\n",
    "\n",
    "Mantemos apenas as colunas úteis para análise.\n",
    "- `index = False ` evita salvar o índice como coluna no CSV."
   ],
   "id": "e69f0ef960b06a5d"
  },
  {
   "metadata": {
    "collapsed": true
   },
   "cell_type": "code",
   "outputs": [],
   "execution_count": null,
   "source": [
    "df_salvar = df[['nome', 'cpf', 'idade', 'data', 'endereco', 'estado']]\n",
    "df_salvar.to_csv('clientes_limpeza.csv', index=False)\n",
    "\n",
    "print('Novo DataFrame: \\n', pd.read_csv('../data/clientes_limpeza.csv'))"
   ],
   "id": "initial_id"
  }
 ],
 "metadata": {
  "kernelspec": {
   "display_name": "Python 3",
   "language": "python",
   "name": "python3"
  },
  "language_info": {
   "codemirror_mode": {
    "name": "ipython",
    "version": 2
   },
   "file_extension": ".py",
   "mimetype": "text/x-python",
   "name": "python",
   "nbconvert_exporter": "python",
   "pygments_lexer": "ipython2",
   "version": "2.7.6"
  }
 },
 "nbformat": 4,
 "nbformat_minor": 5
}
